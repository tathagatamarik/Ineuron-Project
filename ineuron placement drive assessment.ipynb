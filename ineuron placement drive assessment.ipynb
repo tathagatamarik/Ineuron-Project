{
 "cells": [
  {
   "cell_type": "code",
   "execution_count": 1,
   "id": "7375e108",
   "metadata": {},
   "outputs": [],
   "source": [
    "## Creating a file example.txt\n",
    "f = open('example.txt', 'w')\n",
    "f.write(\"This is a placement assignment\")\n",
    "f.close()"
   ]
  },
  {
   "cell_type": "code",
   "execution_count": 2,
   "id": "08818e76",
   "metadata": {},
   "outputs": [],
   "source": [
    "def Stringreplace(file):\n",
    "    f = open(file, 'r')\n",
    "    content = f.read()\n",
    "    f.close()\n",
    "    content = content.replace('placement', 'screening')\n",
    "    f = open(file, 'w')\n",
    "    f.write(content)\n",
    "    f.close"
   ]
  },
  {
   "cell_type": "code",
   "execution_count": 3,
   "id": "84f89553",
   "metadata": {},
   "outputs": [],
   "source": [
    "Stringreplace('example.txt')"
   ]
  },
  {
   "cell_type": "markdown",
   "id": "3e1188e0",
   "metadata": {},
   "source": [
    "# Abstract class\n"
   ]
  },
  {
   "cell_type": "code",
   "execution_count": 2,
   "id": "818fa370",
   "metadata": {},
   "outputs": [
    {
     "name": "stdout",
     "output_type": "stream",
     "text": [
      "Tathagata Marik and salary is 60000.\n"
     ]
    }
   ],
   "source": [
    "class Person:\n",
    "    def __init__(self, name, surname, salary):\n",
    "        self.name = name \n",
    "        self._surname = surname         # _ single underscore means protected\n",
    "        self.__salary = salary   # __ double underscore means private\n",
    "    \n",
    "    def getName(self, current_year):\n",
    "        return self.name + ' ' + self._surname\n",
    "    \n",
    "    def __str__(self):\n",
    "        return \"%s %s and salary is %d.\" \\\n",
    "                % (self.name, self._surname, self.__salary)\n",
    "    \n",
    "person1 = Person(\"Tathagata\", \"Marik\", 60000)\n",
    "print(person1)"
   ]
  },
  {
   "cell_type": "code",
   "execution_count": 3,
   "id": "5f89723e",
   "metadata": {},
   "outputs": [
    {
     "data": {
      "text/plain": [
       "{'name': 'Tathagata', '_surname': 'Marik', '_Person__salary': 60000}"
      ]
     },
     "execution_count": 3,
     "metadata": {},
     "output_type": "execute_result"
    }
   ],
   "source": [
    "person1.__dict__"
   ]
  },
  {
   "cell_type": "code",
   "execution_count": 4,
   "id": "3e8acf63",
   "metadata": {},
   "outputs": [
    {
     "name": "stdout",
     "output_type": "stream",
     "text": [
      "Tathagata Marik 60000\n"
     ]
    }
   ],
   "source": [
    "print(person1.name, person1._surname, person1._Person__salary)\n"
   ]
  },
  {
   "cell_type": "markdown",
   "id": "cd23c826",
   "metadata": {},
   "source": [
    "# Multiple Inheeritence\n"
   ]
  },
  {
   "cell_type": "code",
   "execution_count": 6,
   "id": "6f819b8b",
   "metadata": {},
   "outputs": [],
   "source": [
    "class A:\n",
    "    def method1(self):\n",
    "        print(\"Class A inside method1\")"
   ]
  },
  {
   "cell_type": "code",
   "execution_count": 7,
   "id": "d1bff4f4",
   "metadata": {},
   "outputs": [],
   "source": [
    "class B(A):\n",
    "    def method1(self):\n",
    "        print(\"Class B inside method1\")\n",
    "        \n",
    "## Class C inheriting base class A\n",
    "class C(A):\n",
    "    def method1(self):\n",
    "        print(\"Class C inside method1\")\n",
    "    def method2(self):\n",
    "        print(\"Class C inside method2\")"
   ]
  },
  {
   "cell_type": "code",
   "execution_count": 8,
   "id": "555bbe2e",
   "metadata": {},
   "outputs": [],
   "source": [
    "class D(B,C):\n",
    "    def method1(self):\n",
    "        print(\"Class D inside method1\")"
   ]
  },
  {
   "cell_type": "code",
   "execution_count": 9,
   "id": "c387ced6",
   "metadata": {},
   "outputs": [],
   "source": [
    "obj_d = D()"
   ]
  },
  {
   "cell_type": "code",
   "execution_count": 10,
   "id": "72ab5c04",
   "metadata": {},
   "outputs": [
    {
     "name": "stdout",
     "output_type": "stream",
     "text": [
      "Class D inside method1\n",
      "Class C inside method2\n"
     ]
    }
   ],
   "source": [
    "obj_d.method1()\n",
    "obj_d.method2()"
   ]
  },
  {
   "cell_type": "code",
   "execution_count": 11,
   "id": "572beb1d",
   "metadata": {},
   "outputs": [
    {
     "name": "stdout",
     "output_type": "stream",
     "text": [
      "Class B inside method1\n"
     ]
    }
   ],
   "source": [
    "B.method1(obj_d)"
   ]
  },
  {
   "cell_type": "code",
   "execution_count": 12,
   "id": "08cdefda",
   "metadata": {},
   "outputs": [
    {
     "name": "stdout",
     "output_type": "stream",
     "text": [
      "Class A inside method1\n"
     ]
    }
   ],
   "source": [
    "A.method1(obj_d)"
   ]
  },
  {
   "cell_type": "markdown",
   "id": "2e122deb",
   "metadata": {},
   "source": [
    "# Decorator \n"
   ]
  },
  {
   "cell_type": "code",
   "execution_count": 13,
   "id": "588aeb61",
   "metadata": {},
   "outputs": [
    {
     "name": "stdout",
     "output_type": "stream",
     "text": [
      "Before Execution\n",
      "Inside the function\n",
      "After Execution\n",
      "Sum = 3\n"
     ]
    }
   ],
   "source": [
    "def decorator(func):\n",
    "    def inner_function(*args, **kwargs):\n",
    "        \n",
    "        print(\"Before Execution\")\n",
    "        \n",
    "        returned_value = func(*args, **kwargs)\n",
    "        \n",
    "        print(\"After Execution\")\n",
    "        \n",
    "        # returning the value to the original frame\n",
    "        return returned_value\n",
    "    \n",
    "    return inner_function\n",
    "\n",
    "\n",
    "# adding decorator to the function\n",
    "@decorator\n",
    "def sum_two_numbers(a, b):\n",
    "    print(\"Inside the function\")\n",
    "    return a + b\n",
    "\n",
    "# getting the value through return of the function\n",
    "print(\"Sum =\", sum_two_numbers(a=1, b=2))"
   ]
  },
  {
   "cell_type": "code",
   "execution_count": null,
   "id": "ee5e629a",
   "metadata": {},
   "outputs": [],
   "source": []
  }
 ],
 "metadata": {
  "kernelspec": {
   "display_name": "Python 3 (ipykernel)",
   "language": "python",
   "name": "python3"
  },
  "language_info": {
   "codemirror_mode": {
    "name": "ipython",
    "version": 3
   },
   "file_extension": ".py",
   "mimetype": "text/x-python",
   "name": "python",
   "nbconvert_exporter": "python",
   "pygments_lexer": "ipython3",
   "version": "3.9.7"
  }
 },
 "nbformat": 4,
 "nbformat_minor": 5
}
